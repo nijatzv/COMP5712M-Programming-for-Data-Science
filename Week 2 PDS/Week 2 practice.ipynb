{
 "cells": [
  {
   "cell_type": "code",
   "execution_count": 2,
   "id": "08ad7b4c-549d-4e12-9ff7-adeb5c631239",
   "metadata": {},
   "outputs": [],
   "source": [
    "# define a function with two parameters - nothing is output at this stage\n",
    "\n",
    "def isItChristmas(month, day):\n",
    "    if month == 12 and day == 25:\n",
    "        print('Happy Christmas')\n",
    "    else:\n",
    "        print('Have a nice day')"
   ]
  },
  {
   "cell_type": "code",
   "execution_count": 5,
   "id": "ccf5cc37-4680-4aba-bb9a-eaa415103f08",
   "metadata": {},
   "outputs": [
    {
     "name": "stdout",
     "output_type": "stream",
     "text": [
      "Happy Christmas\n"
     ]
    }
   ],
   "source": [
    "isItChristmas(12, 25)"
   ]
  },
  {
   "cell_type": "code",
   "execution_count": 6,
   "id": "98e28804-ee44-43b8-8d8b-c0b868ded14b",
   "metadata": {},
   "outputs": [],
   "source": [
    "def returnNumbers():\n",
    "    return 1, 2, 3, 4\n",
    "\n",
    "one, two, three, four = returnNumbers()\n"
   ]
  },
  {
   "cell_type": "code",
   "execution_count": 7,
   "id": "f58367b3-cbf7-4678-b454-2c4e900fc6d7",
   "metadata": {},
   "outputs": [
    {
     "data": {
      "text/plain": [
       "1"
      ]
     },
     "execution_count": 7,
     "metadata": {},
     "output_type": "execute_result"
    }
   ],
   "source": [
    "one"
   ]
  },
  {
   "cell_type": "code",
   "execution_count": 11,
   "id": "8d42516b-1445-42c5-9096-28c84c5b8290",
   "metadata": {},
   "outputs": [],
   "source": [
    "def countLetters(inputString, letter = 'a'):\n",
    "    inputString = inputString.lower()\n",
    "    total = 0\n",
    "    for l in inputString:\n",
    "        if l == letter:\n",
    "            total += 1\n",
    "    return total\n",
    "\n",
    "num_a = countLetters('Exampaale string') # sets num_a to 1\n",
    "num_e = countLetters('Exampaale string', letter='e') # sets num_e to 2\n"
   ]
  },
  {
   "cell_type": "code",
   "execution_count": 12,
   "id": "5751f52c-5dff-4a50-ba70-d514a48f596b",
   "metadata": {},
   "outputs": [
    {
     "data": {
      "text/plain": [
       "3"
      ]
     },
     "execution_count": 12,
     "metadata": {},
     "output_type": "execute_result"
    }
   ],
   "source": [
    "num_a"
   ]
  },
  {
   "cell_type": "code",
   "execution_count": null,
   "id": "1e5cfeeb-b86e-4e0b-93db-149e7680933b",
   "metadata": {},
   "outputs": [],
   "source": []
  },
  {
   "cell_type": "code",
   "execution_count": null,
   "id": "65dfc388-0162-43c1-84c5-4a11d93b2373",
   "metadata": {},
   "outputs": [],
   "source": []
  },
  {
   "cell_type": "code",
   "execution_count": null,
   "id": "042195c2-f2ae-427b-8506-f6048e39ab9f",
   "metadata": {},
   "outputs": [],
   "source": []
  },
  {
   "cell_type": "code",
   "execution_count": null,
   "id": "dec3dbaa-a1cb-4ac1-96cc-9d3e1402e3c1",
   "metadata": {},
   "outputs": [],
   "source": []
  },
  {
   "cell_type": "code",
   "execution_count": null,
   "id": "f1a6f92d-c878-4ff2-8842-6ff88d574ce4",
   "metadata": {},
   "outputs": [],
   "source": []
  },
  {
   "cell_type": "code",
   "execution_count": null,
   "id": "32980767-dd3a-41a3-a7d1-2da0f8a54213",
   "metadata": {},
   "outputs": [],
   "source": []
  },
  {
   "cell_type": "code",
   "execution_count": null,
   "id": "f280a663-c659-4b9d-9c8f-a4d0e3fc877a",
   "metadata": {},
   "outputs": [],
   "source": []
  },
  {
   "cell_type": "code",
   "execution_count": null,
   "id": "5bdb9192-08ee-4aef-8fd7-98d6e49f075c",
   "metadata": {},
   "outputs": [],
   "source": []
  },
  {
   "cell_type": "code",
   "execution_count": null,
   "id": "575378f0-ee57-485d-b034-8a6f76556f7a",
   "metadata": {},
   "outputs": [],
   "source": []
  },
  {
   "cell_type": "code",
   "execution_count": null,
   "id": "fd0ba5ea-6442-433a-bc41-592650ce8174",
   "metadata": {},
   "outputs": [],
   "source": []
  },
  {
   "cell_type": "code",
   "execution_count": null,
   "id": "ff95c247-fdc1-4515-832d-8bc5304228cc",
   "metadata": {},
   "outputs": [],
   "source": []
  },
  {
   "cell_type": "code",
   "execution_count": null,
   "id": "9bb1d098-0433-48c5-8640-65a92c8c1a4e",
   "metadata": {},
   "outputs": [],
   "source": []
  },
  {
   "cell_type": "code",
   "execution_count": null,
   "id": "e78145a8-2330-4768-b05c-092dc54a9f38",
   "metadata": {},
   "outputs": [],
   "source": []
  },
  {
   "cell_type": "code",
   "execution_count": null,
   "id": "93bba494-778e-48af-b09e-75888a03e585",
   "metadata": {},
   "outputs": [],
   "source": []
  },
  {
   "cell_type": "code",
   "execution_count": null,
   "id": "e510de6a-7132-45ce-b230-8d685745a1c2",
   "metadata": {},
   "outputs": [],
   "source": []
  },
  {
   "cell_type": "code",
   "execution_count": null,
   "id": "02eee7ee-b21b-457b-be2c-a4528999fe67",
   "metadata": {},
   "outputs": [],
   "source": []
  },
  {
   "cell_type": "code",
   "execution_count": null,
   "id": "6b101f93-44c4-417b-8b68-aa132f015d65",
   "metadata": {},
   "outputs": [],
   "source": []
  },
  {
   "cell_type": "code",
   "execution_count": null,
   "id": "42431e9e-c762-4d5d-8ec1-86e32ce315da",
   "metadata": {},
   "outputs": [],
   "source": []
  },
  {
   "cell_type": "code",
   "execution_count": null,
   "id": "e488b827-e46e-4daf-b734-c5491b79675e",
   "metadata": {},
   "outputs": [],
   "source": []
  }
 ],
 "metadata": {
  "kernelspec": {
   "display_name": "Python 3 (ipykernel)",
   "language": "python",
   "name": "python3"
  },
  "language_info": {
   "codemirror_mode": {
    "name": "ipython",
    "version": 3
   },
   "file_extension": ".py",
   "mimetype": "text/x-python",
   "name": "python",
   "nbconvert_exporter": "python",
   "pygments_lexer": "ipython3",
   "version": "3.12.4"
  }
 },
 "nbformat": 4,
 "nbformat_minor": 5
}
