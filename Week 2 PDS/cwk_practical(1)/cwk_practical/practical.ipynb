{
 "cells": [
  {
   "cell_type": "markdown",
   "metadata": {},
   "source": [
    "## Practical\n",
    "\n",
    "This exercise is intended to develop and test skills in defining basic algorithmic functions in Python. \n",
    "\n",
    "You will be only using a limited set of library modules. This is to ensure you master the kinds of algorithms required rather than relying on pre-programmed functions provided by Python packages. In other words do not add `import` statements in any code you write for this assignment. And, of course, do not add extra packages to the `import` statements that are already in the code.\n"
   ]
  },
  {
   "cell_type": "markdown",
   "metadata": {},
   "source": [
    "### Importing the Testing Module\n",
    "In order to run the function tests provided for you to check you code\n",
    "you will need to first run the following cell, which imports the\n",
    "testing module for this exercise. Make sure the file `warm_up_tests.py` is in the same directory as this file."
   ]
  },
  {
   "cell_type": "code",
   "execution_count": 1,
   "metadata": {},
   "outputs": [],
   "source": [
    "# Run this cell first\n",
    "\n",
    "from practical_tests import do_tests"
   ]
  },
  {
   "cell_type": "markdown",
   "metadata": {},
   "source": [
    "## Q1. Count the number of vowels in a string"
   ]
  },
  {
   "cell_type": "markdown",
   "metadata": {},
   "source": [
    "### Q1 (a) Count the number of vowels in a string\n",
    "\n",
    "Define a function __`number_of_vowels`__, which takes one string argument and returns the number of vowels that occur in that string. More specifically, the number returned should be the total number of occurences of all vowels in either lower or upper case.\n",
    "The following table shows the required outputs for various inputs:\n",
    "\n",
    "\n",
    "| INPUT| OUPUT |\n",
    "|: ----:|: ----  :|\n",
    "| `\"yyyykz\"` | 0 |\n",
    "| `\"A cat sat on a mat\"` | 6 |\n",
    "| `\"Abracadabra\"` | 5 |\n",
    "| `\"Eutopia\"` | 5 |\n"
   ]
  },
  {
   "cell_type": "code",
   "execution_count": 2,
   "metadata": {},
   "outputs": [],
   "source": [
    "## Modify this function definition to fulfill the given requirements\n",
    "\n",
    "def number_of_vowels(string):\n",
    "    ### Add code here to compute the required result:\n",
    "    return ## Change this to return the answer \n"
   ]
  },
  {
   "cell_type": "code",
   "execution_count": 3,
   "metadata": {},
   "outputs": [
    {
     "name": "stdout",
     "output_type": "stream",
     "text": [
      "\n",
      "Running tests for : number_of_vowels\n",
      " * number_of_vowels('How many vowels?')\n",
      "    returned: None , expected:  4\n",
      "    Incorrect.\n",
      " * number_of_vowels('Sooo many vowels!')\n",
      "    returned: None , expected:  6\n",
      "    Incorrect.\n",
      " * number_of_vowels('XXXX')\n",
      "    returned: None , expected:  0\n",
      "    Incorrect.\n",
      " Number of tests passed: 0/3\n"
     ]
    }
   ],
   "source": [
    "# Run this cell to test your function\n",
    "# The testing module have been imported (see above)\n",
    "# You must also have run the cell with your definition\n",
    "do_tests(number_of_vowels)"
   ]
  },
  {
   "cell_type": "markdown",
   "metadata": {},
   "source": [
    "### Q1 (b) Count the number of *different* vowels in a string\n",
    "\n",
    "To answer this question you need to write code that will determine the number of different vowels in a string input by the user. By \"different vowels\" we mean that if the same vowel occurs more than once it is only counted once. Moreover, small and captial versions of the same letter do NOT count as different vowels. Thus, the number given as the answer will always be from 0 to 5 (inclusive).\n",
    "\n",
    "Examples:\n",
    "\n",
    "|INPUT  |\t    OUPUT |  comment |\n",
    "| ----  |       --- |  ---- |\n",
    "| \"yyyykz\" |\t0 |     no vowels |\n",
    "| \"hello you\"   |  3 | three different vowels |\n",
    "| \"abracadabra\" |\t1 | the only vowel is \"a\" |\n",
    "| \"Ooops!\"      |   1 | only vowel is \"o\" (both small and capital)     \n",
    "| \"A cat sat on a mat\" | 2 | contains \"a\" and \"o\"|  |\n",
    "| \"Eutopia\" |\t5 | contains all five volwels|"
   ]
  },
  {
   "cell_type": "code",
   "execution_count": null,
   "metadata": {},
   "outputs": [],
   "source": [
    "## Modify this function definition to fulfill the given requirements\n",
    "\n",
    "def number_of_distinct_vowels(string):\n",
    "    ### Add code here to compute the required number\n",
    "    return number_of_vowels(string)\n",
    "    #return None ## Change this to return the answer (an integer)"
   ]
  },
  {
   "cell_type": "code",
   "execution_count": null,
   "metadata": {},
   "outputs": [],
   "source": [
    "# Run this cell to test your function\n",
    "# The testing module have been imported (see above)\n",
    "# You must also have run the cell with your definition\n",
    "do_tests(number_of_distinct_vowels)"
   ]
  },
  {
   "cell_type": "markdown",
   "metadata": {},
   "source": [
    "## Q2. Identify Anagrams and Palindromes\n",
    "\n",
    "This question involves determining properties of words and\n",
    "identifying words with those properties. \n",
    "\n",
    "### Q2 (a) Test whether two strings are anagrams\n",
    "\n",
    "* Two words are _anagrams_ if they both contain the same letters\n",
    "but in different orders. For example __listen__\n",
    "is an anagram of __silent__.\n",
    "\n",
    "Write a Boolean valued function `anagrams(s1, s2)`, which returns `True` just in case the string `s1` contains the same letters as string `s2` but in a _different order_. The function should be case insensitive --- in other words it should return the same value if any letters in either s1 or s2 are changed from upper to lower case or from lower to upper case. You may assume that the input strings contain only letters.\n",
    "\n",
    "#### Examples\n",
    "\n",
    "| INPUT 1 (string)|\tINPUT 2 (string) |\tOUPUT (boolean) |\n",
    "|--|--|--|\n",
    "|`\"sidebar\"`| `\"seabird\"` |\t`True` |\n",
    "|`\"cheese\"` | `\"frizbee\"` |\t`False`|\n",
    "|`\"listen\"` | `\"silent\"`  |\t`True` |\n",
    "|`\"this\"`   | `\"this\"`    |\t`False`|\n",
    "|`\"Tar\"`    | `\"Rat\"`\t  |`True`  |\n",
    "|`\"Tar\"`    | `\"TAR\"`\t  |`False` |"
   ]
  },
  {
   "cell_type": "code",
   "execution_count": null,
   "metadata": {},
   "outputs": [],
   "source": [
    "## Modify this function definition to fulfill the given requirements\n",
    "\n",
    "def anagrams(s1, s2):\n",
    "    ## replace the 'pass' command (which does nothing) with code that\n",
    "    ## computes and returns the requried result for any strings s1 and s2\n",
    "    pass\n"
   ]
  },
  {
   "cell_type": "code",
   "execution_count": null,
   "metadata": {},
   "outputs": [],
   "source": [
    "# Run this cell to test your function\n",
    "# The testing module have been imported (see above)\n",
    "# You must also have run the cell with your definition\n",
    "do_tests(anagrams)"
   ]
  },
  {
   "cell_type": "markdown",
   "metadata": {},
   "source": [
    "### Q2 (b) Test whether a string is a palindrome\n",
    "\n",
    "* A word is a _palindrome_ if it is the same forward and backward. In other words, reversing the order of its letters\n",
    "results in the same word. For instance, __bob__, __rotator__. The term palindrome\n",
    "is also applied to sentences, which may contain spaces and punctuation marks as well as\n",
    "letters. When considering whether a sentence is a palindrome, the punctuation \n",
    "marks and the case of the letters are usually ignored.\n",
    "\n",
    "Define a function `is_palindrome(s)` that it `return`s `True` if the given string is a palindrome, otherwise `return`s `False`.\n",
    "\n",
    "More specifically, the function should return true if,\n",
    " the alphabetic characters in the input string form the same sequence\n",
    "if they are read forward as if they are read backwards.\n",
    "Any non-alphabet characters, such as spaces and punctuation marks should be ignored, and letter characters are considered to be the same if one is lower case and the other is upper case. Thus the string `\"Do geese see God?\"` is counted as a palindrome,\n",
    "so the function should `return` `True` for this string.\n",
    "\n",
    "#### Examples:\n",
    "| Input | Output |\n",
    "|------|------|\n",
    "|`\"Bob\"` | `True` |\n",
    "|`\"God\"` | `False` |\n",
    "|`\"Abba\"` | `True` |\n",
    "|`\"No lemon, no melon\"` | `True`|\n",
    "|`\"I love Python!\"` | `False`|"
   ]
  },
  {
   "cell_type": "code",
   "execution_count": null,
   "metadata": {},
   "outputs": [],
   "source": [
    "## Modify this function definition to fulfill the given requirements\n",
    "\n",
    "def is_palindrome(s):\n",
    "    pass   \n",
    "    "
   ]
  },
  {
   "cell_type": "code",
   "execution_count": null,
   "metadata": {},
   "outputs": [],
   "source": [
    "# Run this cell to test your function\n",
    "# The testing module have been imported (see above)\n",
    "# You must also have run the cell with your definition\n",
    "do_tests(is_palindrome)"
   ]
  },
  {
   "cell_type": "markdown",
   "metadata": {},
   "source": [
    "## Q3. Using a Data File of English Words\n",
    "\n",
    "For this task you will deal with your first file of data!\n",
    "It is an alphabetical list of a large number of\n",
    "English words.\n",
    "You should have a look at it in an editor or view it in\n",
    "a browser to see what the contents look like.\n",
    "\n",
    "This file contains contains nearly all common English words:\n",
    "\n",
    "* english_words.txt\n",
    "\n",
    "I also provide the following code which initialises the global variable `ENGLISH_WORDS` to be a **set** of all the words in the file `english_words.txt`. You will need to have that file in the same folder as this notebook file."
   ]
  },
  {
   "cell_type": "code",
   "execution_count": null,
   "metadata": {},
   "outputs": [],
   "source": [
    "def get_english_words():\n",
    "    with open( \"english_words.txt\" ) as f:\n",
    "         words = f.readlines()\n",
    "    words = { word.strip() for\n",
    "             word in words }\n",
    "    return words\n",
    "\n",
    "ENGLISH_WORDS = get_english_words()"
   ]
  },
  {
   "cell_type": "markdown",
   "metadata": {},
   "source": [
    "You are recommended to use the `ENGLISH_WORDS` variable in the following questions, whenever you are required to perform a calculation involving all the words in `english_words.txt`. This is particularly important for a function that\n",
    "needs to check the list of words many times. Reading information from a file typically takes more computational time than other operations, so if data can be stored in memory (e.g. as the value of a Python variable) this will usually be a lot more efficient than reading it from a file each time it is needed. (Of course, when dealing with very large datasets, it may not be possible to store the whole dataset in memory.)"
   ]
  },
  {
   "cell_type": "markdown",
   "metadata": {},
   "source": [
    "### Q3 (a) Find all anagrams of a word\n",
    "Write a function `find_all_anagrams(string)`, which take a string as input and returns a list, in alphabetical order, of all words in the file `english_words.txt` that are anagrams of the input string.\n",
    "\n",
    "More specifically given an input string the function should return a list  `[word_1, ..., word_n]`, of words in alphabetical order, which contains every word in the dictionary file such that the value of the function `anagrams(string,word_i)` is `True`, and contains no other words.\n",
    "\n",
    "#### Examples\n",
    "|INPUT          |\tOUPUT                  |\n",
    "|---------------|--------------------------|\n",
    "|`'cheese'`     |\t`[]`                   |\n",
    "|`'Python'`     |\t`['phyton', 'typhon']` |\n",
    "|`'relating'`\t| ```['alerting', 'altering', 'integral', 'tanglier', 'triangle']``` |\n",
    "\n",
    "Note:\n",
    "Though the instructions for this question are quite brief, they do exactly specify the requirements for this function.\n",
    "Since you should have already defined the `anagrams(s1,s2)` function, you should call this function in your definition of the `find_all_anagrams(string)` function. It is much better programming style to do that, rather than repeat the full code for checking anagrams within ``find_all_anagrams(string)``."
   ]
  },
  {
   "cell_type": "code",
   "execution_count": null,
   "metadata": {},
   "outputs": [],
   "source": [
    "## Modify this function definition to fulfill the given requirements.\n",
    "\n",
    "def find_all_anagrams(s):\n",
    "    pass\n"
   ]
  },
  {
   "cell_type": "code",
   "execution_count": null,
   "metadata": {},
   "outputs": [],
   "source": [
    "# Run this cell to test your function\n",
    "# The testing module have been imported (see above)\n",
    "# You must also have run the cell with your definition\n",
    "do_tests(find_all_anagrams)"
   ]
  },
  {
   "cell_type": "markdown",
   "metadata": {},
   "source": [
    "### Q3 (b) Find palindromes of length `n` (in `english_words.txt`)\n",
    "\n",
    "Define a function `find_all_palindromes(n)` that returns, in alphabetical order, the list of all palindromes in `english_words.txt` that are `n` letters long."
   ]
  },
  {
   "cell_type": "code",
   "execution_count": null,
   "metadata": {},
   "outputs": [],
   "source": [
    "## Modify this function definition to fulfill the given requirements\n",
    "\n",
    "def find_palindromes_of_length(n):\n",
    "    pass\n"
   ]
  },
  {
   "cell_type": "code",
   "execution_count": null,
   "metadata": {},
   "outputs": [],
   "source": [
    "# Run this cell to test your function\n",
    "# The testing module have been imported (see above)\n",
    "# You must also have run the cell with your definition\n",
    "do_tests(find_palindromes_of_length)"
   ]
  },
  {
   "cell_type": "markdown",
   "metadata": {},
   "source": [
    "## Q4: Password Strength\n",
    "\n",
    "An institution uses the following rules to classify the strength of passwords:\n",
    "\n",
    "* A string is a WEAK password if it is _less than_ 8 characters long.\n",
    "\n",
    "* A string is a STRONG password if:\n",
    "  * it contains at least 11 characters\n",
    "  * AND it contains at least 1 lower case letter\n",
    "  * AND it contains at least 1 capital letter\n",
    "  * AND it contains at least 1 numerical digit.\n",
    "* A string is a MEDIUM password if it is NOT a WEAK password AND is NOT a STRONG password.\n",
    "\n",
    "You need to code a function ```password_strength``` that will take a string argument and will print the 'strength' of that string as a password, according to the rules given above. So it should output one of the strings ```\"STRONG\"```, ```\"WEAK\"``` or ```\"MEDIUM\"```.\n",
    "\n",
    "Examples:\n",
    "\n",
    "| INPUT             | OUPUT |\n",
    "| -----             | --------|\n",
    "| ```\"hello\"```           |\t```\"WEAK\"``` |\n",
    "| ```\"7Kings8all9Pies\"``` |\t```\"STRONG\"``` |\n",
    "| ```\"brandon123\"```      |\t```\"MEDIUM\"``` |"
   ]
  },
  {
   "cell_type": "code",
   "execution_count": null,
   "metadata": {},
   "outputs": [],
   "source": [
    "## Modify this function definition to fulfill the given requirements\n",
    "\n",
    "def password_strength(password):\n",
    "    ## Add code to compute password strength\n",
    "    return \"Hmm, not sure\"  \n",
    "    # should return the strength (\"ILLEGAL\", WEAK\", \"STRONG\" or \"MEDIUM\")\n"
   ]
  },
  {
   "cell_type": "code",
   "execution_count": null,
   "metadata": {},
   "outputs": [],
   "source": [
    "# Run this cell to test your function\n",
    "# The testing module have been imported (see above)\n",
    "# You must also have run the cell with your definition\n",
    "do_tests(password_strength)"
   ]
  },
  {
   "cell_type": "code",
   "execution_count": null,
   "metadata": {},
   "outputs": [],
   "source": []
  }
 ],
 "metadata": {
  "kernelspec": {
   "display_name": "Python 3 (ipykernel)",
   "language": "python",
   "name": "python3"
  },
  "language_info": {
   "codemirror_mode": {
    "name": "ipython",
    "version": 3
   },
   "file_extension": ".py",
   "mimetype": "text/x-python",
   "name": "python",
   "nbconvert_exporter": "python",
   "pygments_lexer": "ipython3",
   "version": "3.9.12"
  }
 },
 "nbformat": 4,
 "nbformat_minor": 4
}
