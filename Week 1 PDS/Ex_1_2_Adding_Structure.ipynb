{
 "cells": [
  {
   "cell_type": "markdown",
   "metadata": {},
   "source": [
    "# Adding Structure\n",
    "In this notebook we will learn about list and dictionary data structure.\n",
    "\n",
    "Remember that you should think about what you expect the code to do before you run the cell.\n",
    "Then run the cell and see what happens.\n",
    "Then try changing the example slightly to make sure that you understand properly. "
   ]
  },
  {
   "cell_type": "markdown",
   "metadata": {},
   "source": [
    "## Lists\n",
    "A list contains variables of any type. \n",
    "Use square brackets **[ ]** to indicate a list and a comma **,** to separate items in it. Lists can contain repetitions."
   ]
  },
  {
   "cell_type": "code",
   "execution_count": 1,
   "metadata": {},
   "outputs": [
    {
     "data": {
      "text/plain": [
       "[1, 'a', 4.5, 1]"
      ]
     },
     "execution_count": 1,
     "metadata": {},
     "output_type": "execute_result"
    }
   ],
   "source": [
    "my_list = [1, 'a', 4.5, 1]\n",
    "\n",
    "my_list"
   ]
  },
  {
   "cell_type": "markdown",
   "metadata": {},
   "source": [
    "A list can even contain other lists."
   ]
  },
  {
   "cell_type": "code",
   "execution_count": 2,
   "metadata": {},
   "outputs": [
    {
     "data": {
      "text/plain": [
       "[['a', 'b', 'c'], [1, 2, 3]]"
      ]
     },
     "execution_count": 2,
     "metadata": {},
     "output_type": "execute_result"
    }
   ],
   "source": [
    "alphabet_list = ['a', 'b', 'c']\n",
    "numbers_list = [1, 2, 3]\n",
    "\n",
    "my_list = [alphabet_list, numbers_list]\n",
    "\n",
    "my_list"
   ]
  },
  {
   "cell_type": "markdown",
   "metadata": {},
   "source": [
    "### List Length\n",
    "The function ``len()`` returns the number of elements in a list, but it only counts top level elements -- if a member of the list is a list, that still only counts as 1 towards the length. "
   ]
  },
  {
   "cell_type": "code",
   "execution_count": 3,
   "metadata": {},
   "outputs": [
    {
     "data": {
      "text/plain": [
       "2"
      ]
     },
     "execution_count": 3,
     "metadata": {},
     "output_type": "execute_result"
    }
   ],
   "source": [
    "len(my_list)"
   ]
  },
  {
   "cell_type": "markdown",
   "metadata": {},
   "source": [
    "### Access and Update Elements From a List\n",
    "Each member of a list is associated with a number that indicates its position in the list.\n",
    "The numbering starts from 0.\n",
    "The number associated with a list element is called its **index**.\n",
    "The next cell shows how to access the second element (i.e. element number 1) from list_of_names.\n",
    "This list only contains 3 elements -- what happens if you try to access element number 8?\n",
    "\n",
    "Updating a list element is just like setting any othe variable."
   ]
  },
  {
   "cell_type": "code",
   "execution_count": 4,
   "metadata": {},
   "outputs": [
    {
     "data": {
      "text/plain": [
       "'George'"
      ]
     },
     "execution_count": 4,
     "metadata": {},
     "output_type": "execute_result"
    }
   ],
   "source": [
    "list_of_names = ['Fred', 'George', 'Sam']\n",
    "\n",
    "list_of_names[1]"
   ]
  },
  {
   "cell_type": "code",
   "execution_count": 5,
   "metadata": {},
   "outputs": [
    {
     "data": {
      "text/plain": [
       "['Fred', 'Harry', 'Sam']"
      ]
     },
     "execution_count": 5,
     "metadata": {},
     "output_type": "execute_result"
    }
   ],
   "source": [
    "list_of_names = ['Fred', 'George', 'Sam']\n",
    "\n",
    "list_of_names[1] = 'Harry'\n",
    "\n",
    "# show the updated list\n",
    "list_of_names"
   ]
  },
  {
   "cell_type": "markdown",
   "metadata": {},
   "source": [
    "Suppose you want to access the last element of a list, but you're not sure how many elements it contains.\n",
    "Then you can use negative numbers to count backwards through the list. \n",
    "Element **-1** is the last element, **-2** is second to last, etc. "
   ]
  },
  {
   "cell_type": "code",
   "execution_count": 6,
   "metadata": {},
   "outputs": [
    {
     "data": {
      "text/plain": [
       "'Sam'"
      ]
     },
     "execution_count": 6,
     "metadata": {},
     "output_type": "execute_result"
    }
   ],
   "source": [
    "list_of_names[-1]"
   ]
  },
  {
   "cell_type": "markdown",
   "metadata": {},
   "source": [
    "### Slicing\n",
    "To access part of a list -- not just a single element -- use list slicing. \n",
    "Instead of writing the index of one element to be returned, write the index of the first element that should be included, then a colon, then the index of the last element that should be included **plus one**. "
   ]
  },
  {
   "cell_type": "code",
   "execution_count": 7,
   "metadata": {},
   "outputs": [
    {
     "data": {
      "text/plain": [
       "['Monica', 'Rachel', 'Phoebe', 'Gunther', 'Mike', 'David']"
      ]
     },
     "execution_count": 7,
     "metadata": {},
     "output_type": "execute_result"
    }
   ],
   "source": [
    "list_of_friends = ['Ross', 'Joey', 'Chandler', 'Monica', 'Rachel', 'Phoebe', 'Gunther', 'Mike', 'David', 'Janice', 'Emily']\n",
    "\n",
    "# start at index 3 (Monica).\n",
    "# notice that 9-3=6 and 6 elements are included in the returned list.\n",
    "list_of_friends[3:9]"
   ]
  },
  {
   "cell_type": "markdown",
   "metadata": {},
   "source": [
    "If the index of the starting element is left out it's assumed to be 0.\n",
    "See what happens if you don't include an index for the ending."
   ]
  },
  {
   "cell_type": "code",
   "execution_count": 8,
   "metadata": {},
   "outputs": [
    {
     "data": {
      "text/plain": [
       "['Ross', 'Joey', 'Chandler', 'Monica']"
      ]
     },
     "execution_count": 8,
     "metadata": {},
     "output_type": "execute_result"
    }
   ],
   "source": [
    "list_of_friends[:4]"
   ]
  },
  {
   "cell_type": "markdown",
   "metadata": {},
   "source": [
    "To access every other element also specify a **step size** as well as a start and end index.\n",
    "Try changing the step size. "
   ]
  },
  {
   "cell_type": "code",
   "execution_count": 9,
   "metadata": {},
   "outputs": [
    {
     "data": {
      "text/plain": [
       "['Joey', 'Monica', 'Phoebe', 'Mike', 'Janice']"
      ]
     },
     "execution_count": 9,
     "metadata": {},
     "output_type": "execute_result"
    }
   ],
   "source": [
    "# start at index 1 (Joey), then take every other element until reaching index 10 (Emily)\n",
    "# notice (10 - 1) / 2 = 4.5, round up to 5, and there are 5 elements in the returned list\n",
    "list_of_friends[1:10:2]"
   ]
  },
  {
   "cell_type": "markdown",
   "metadata": {},
   "source": [
    "### Add and Remove List Elements \n",
    "Elements can be added to the end of a list using the ``append()`` function."
   ]
  },
  {
   "cell_type": "code",
   "execution_count": 10,
   "metadata": {},
   "outputs": [
    {
     "data": {
      "text/plain": [
       "['Fred', 'George', 'Sam', 'Brandon']"
      ]
     },
     "execution_count": 10,
     "metadata": {},
     "output_type": "execute_result"
    }
   ],
   "source": [
    "list_of_names = ['Fred', 'George', 'Sam']\n",
    "\n",
    "# add 'Brandon' at the end of the list\n",
    "list_of_names.append('Brandon')\n",
    "\n",
    "list_of_names"
   ]
  },
  {
   "cell_type": "markdown",
   "metadata": {},
   "source": [
    "To create an element at a specific index use ``insert()``.\n",
    "Here we start with a list that has three elements and add a new element with index 1.\n",
    "The later elements will have their indices updated.\n",
    "What will happen if we try to insert the new element at position 7?"
   ]
  },
  {
   "cell_type": "code",
   "execution_count": 11,
   "metadata": {},
   "outputs": [
    {
     "data": {
      "text/plain": [
       "['Fred', 'Brandon', 'George', 'Sam']"
      ]
     },
     "execution_count": 11,
     "metadata": {},
     "output_type": "execute_result"
    }
   ],
   "source": [
    "list_of_names = ['Fred', 'George', 'Sam']\n",
    "\n",
    "# add 'Brandon' at index 1\n",
    "list_of_names.insert(1,'Brandon')\n",
    "\n",
    "list_of_names"
   ]
  },
  {
   "cell_type": "markdown",
   "metadata": {},
   "source": [
    "Two lists can be joined together with the function ``extend()``."
   ]
  },
  {
   "cell_type": "code",
   "execution_count": 12,
   "metadata": {},
   "outputs": [
    {
     "data": {
      "text/plain": [
       "['Fred', 'George', 'Sam', 'John', 'Harry', 'Steve']"
      ]
     },
     "execution_count": 12,
     "metadata": {},
     "output_type": "execute_result"
    }
   ],
   "source": [
    "list_of_names = ['Fred', 'George', 'Sam']\n",
    "\n",
    "new_people = ['John', 'Harry', 'Steve']\n",
    "\n",
    "# new_people list is added to the end of list_of_names (new_people list is unchanged)\n",
    "list_of_names.extend(new_people)\n",
    "\n",
    "list_of_names"
   ]
  },
  {
   "cell_type": "markdown",
   "metadata": {},
   "source": [
    "It's also possible to use aritmetic-like symbols to modify lists.\n",
    "**+** is used to join two lists together, and * repeats a list.\n",
    "The difference between using + or using ``extend()`` is that + creates a new list and leaves both of the original lists unchanged. "
   ]
  },
  {
   "cell_type": "code",
   "execution_count": 13,
   "metadata": {},
   "outputs": [
    {
     "data": {
      "text/plain": [
       "['a', 'b', 'c', 1, 2, 3]"
      ]
     },
     "execution_count": 13,
     "metadata": {},
     "output_type": "execute_result"
    }
   ],
   "source": [
    "alphabet_list = ['a', 'b', 'c']\n",
    "numbers_list = [1, 2, 3]\n",
    "\n",
    "new_list = alphabet_list + numbers_list\n",
    "\n",
    "new_list"
   ]
  },
  {
   "cell_type": "code",
   "execution_count": 14,
   "metadata": {},
   "outputs": [
    {
     "data": {
      "text/plain": [
       "['a', 'b', 'c']"
      ]
     },
     "execution_count": 14,
     "metadata": {},
     "output_type": "execute_result"
    }
   ],
   "source": [
    "# this list has not been changed by the code in the previous cell\n",
    "alphabet_list"
   ]
  },
  {
   "cell_type": "code",
   "execution_count": 15,
   "metadata": {},
   "outputs": [
    {
     "data": {
      "text/plain": [
       "['a', 'b', 'c', 'a', 'b', 'c', 'a', 'b', 'c']"
      ]
     },
     "execution_count": 15,
     "metadata": {},
     "output_type": "execute_result"
    }
   ],
   "source": [
    "alphabet_list * 3"
   ]
  },
  {
   "cell_type": "markdown",
   "metadata": {},
   "source": [
    "The function ``pop()`` returns the last element from the list and removes it from the list. "
   ]
  },
  {
   "cell_type": "code",
   "execution_count": 16,
   "metadata": {},
   "outputs": [
    {
     "data": {
      "text/plain": [
       "'Sam'"
      ]
     },
     "execution_count": 16,
     "metadata": {},
     "output_type": "execute_result"
    }
   ],
   "source": [
    "list_of_names = ['Fred', 'George', 'Sam']\n",
    "\n",
    "# get the last element\n",
    "list_of_names.pop()"
   ]
  },
  {
   "cell_type": "code",
   "execution_count": 17,
   "metadata": {},
   "outputs": [
    {
     "data": {
      "text/plain": [
       "['Fred', 'George']"
      ]
     },
     "execution_count": 17,
     "metadata": {},
     "output_type": "execute_result"
    }
   ],
   "source": [
    "# now list_of_names contains one fewer elements\n",
    "list_of_names"
   ]
  },
  {
   "cell_type": "markdown",
   "metadata": {},
   "source": [
    "`pop()` can also be used to remove an element from a specified position (index) in the list"
   ]
  },
  {
   "cell_type": "code",
   "execution_count": 18,
   "metadata": {},
   "outputs": [
    {
     "data": {
      "text/plain": [
       "['Fred', 'George', 'Dave', 'John']"
      ]
     },
     "execution_count": 18,
     "metadata": {},
     "output_type": "execute_result"
    }
   ],
   "source": [
    "list_of_names = ['Fred', 'George', 'Sam', 'Dave', 'John']\n",
    "\n",
    "list_of_names.pop(2)\n",
    "\n",
    "list_of_names"
   ]
  },
  {
   "cell_type": "markdown",
   "metadata": {},
   "source": [
    "Alternatively, when you know the **index** of the element you want to remove, you can use the keyword ``del`` or use list slicing to delete a section of the list."
   ]
  },
  {
   "cell_type": "code",
   "execution_count": 19,
   "metadata": {},
   "outputs": [
    {
     "data": {
      "text/plain": [
       "['Fred', 'George', 'Dave', 'John']"
      ]
     },
     "execution_count": 19,
     "metadata": {},
     "output_type": "execute_result"
    }
   ],
   "source": [
    "list_of_names = ['Fred', 'George', 'Sam', 'Dave', 'John']\n",
    "\n",
    "del list_of_names[2]\n",
    "\n",
    "list_of_names"
   ]
  },
  {
   "cell_type": "code",
   "execution_count": 20,
   "metadata": {},
   "outputs": [
    {
     "data": {
      "text/plain": [
       "['Fred', 'George', 'Dave', 'John']"
      ]
     },
     "execution_count": 20,
     "metadata": {},
     "output_type": "execute_result"
    }
   ],
   "source": [
    "list_of_names = ['Fred', 'George', 'Sam', 'Dave', 'John']\n",
    "\n",
    "list_of_names = list_of_names[:2] + list_of_names[3:]\n",
    "\n",
    "list_of_names"
   ]
  },
  {
   "cell_type": "markdown",
   "metadata": {},
   "source": [
    "If you know the **value** of the element you want to remove but not its **index**, use the function ``remove()``."
   ]
  },
  {
   "cell_type": "code",
   "execution_count": 21,
   "metadata": {},
   "outputs": [
    {
     "data": {
      "text/plain": [
       "['Fred', 'Sam']"
      ]
     },
     "execution_count": 21,
     "metadata": {},
     "output_type": "execute_result"
    }
   ],
   "source": [
    "list_of_names = ['Fred', 'George', 'Sam']\n",
    "\n",
    "list_of_names.remove('George')\n",
    "\n",
    "list_of_names"
   ]
  },
  {
   "cell_type": "markdown",
   "metadata": {},
   "source": [
    "To remove all elements from a list use ``clear()``."
   ]
  },
  {
   "cell_type": "code",
   "execution_count": 22,
   "metadata": {},
   "outputs": [
    {
     "data": {
      "text/plain": [
       "[]"
      ]
     },
     "execution_count": 22,
     "metadata": {},
     "output_type": "execute_result"
    }
   ],
   "source": [
    "list_of_names = ['Fred', 'George', 'Sam']\n",
    "\n",
    "list_of_names.clear()\n",
    "\n",
    "# now the list contains no elements\n",
    "list_of_names"
   ]
  },
  {
   "cell_type": "markdown",
   "metadata": {},
   "source": [
    "### Checking For a List Member\n",
    "To find out whether some value appears in a list use the keyword ``in``.\n",
    "This will return a Boolean value (``True`` or ``False``)."
   ]
  },
  {
   "cell_type": "code",
   "execution_count": 23,
   "metadata": {},
   "outputs": [
    {
     "data": {
      "text/plain": [
       "True"
      ]
     },
     "execution_count": 23,
     "metadata": {},
     "output_type": "execute_result"
    }
   ],
   "source": [
    "list_of_names = ['Fred', 'George', 'Sam']\n",
    "\n",
    "'Fred' in list_of_names"
   ]
  },
  {
   "cell_type": "markdown",
   "metadata": {},
   "source": [
    "Find out how many times a value appears in your list with ``count()`` and find out the position of the first occurrence of a value in the list with ``index()``. "
   ]
  },
  {
   "cell_type": "code",
   "execution_count": 24,
   "metadata": {},
   "outputs": [
    {
     "data": {
      "text/plain": [
       "2"
      ]
     },
     "execution_count": 24,
     "metadata": {},
     "output_type": "execute_result"
    }
   ],
   "source": [
    "list_of_names = ['Fred', 'George', 'Sam', 'Harry', 'George']\n",
    "\n",
    "list_of_names.count('George')"
   ]
  },
  {
   "cell_type": "code",
   "execution_count": 25,
   "metadata": {},
   "outputs": [
    {
     "data": {
      "text/plain": [
       "1"
      ]
     },
     "execution_count": 25,
     "metadata": {},
     "output_type": "execute_result"
    }
   ],
   "source": [
    "list_of_names.index('George')"
   ]
  },
  {
   "cell_type": "markdown",
   "metadata": {},
   "source": [
    "If we use ``index()`` with a value that doesn't appear in the list at all this causes an error."
   ]
  },
  {
   "cell_type": "markdown",
   "metadata": {},
   "source": [
    "### Change the Order of a List\n",
    "- ``sort()`` to sort the members of the list\n",
    "- ``reverse()`` to reverse the list \n",
    "- ``sorted()`` to return a new list that's sorted, but leave the original list unchanged\n",
    "\n",
    "Try sorting lists containing elements of different types (integers, floats, strings, Booleans, other lists)."
   ]
  },
  {
   "cell_type": "code",
   "execution_count": 26,
   "metadata": {},
   "outputs": [
    {
     "data": {
      "text/plain": [
       "[-2, 1, 5, 6.1, 7]"
      ]
     },
     "execution_count": 26,
     "metadata": {},
     "output_type": "execute_result"
    }
   ],
   "source": [
    "list_of_numbers = [5, 6.1, -2, 7, 1]\n",
    "\n",
    "# sorts the list from lowest value to highest\n",
    "list_of_numbers.sort()\n",
    "\n",
    "list_of_numbers"
   ]
  },
  {
   "cell_type": "code",
   "execution_count": 27,
   "metadata": {},
   "outputs": [
    {
     "data": {
      "text/plain": [
       "[7, 6.1, 5, 1, -2]"
      ]
     },
     "execution_count": 27,
     "metadata": {},
     "output_type": "execute_result"
    }
   ],
   "source": [
    "list_of_numbers = [5, 6.1, -2, 7, 1]\n",
    "\n",
    "# sorts the list from highest to lowest\n",
    "list_of_numbers.sort(reverse = True)\n",
    "\n",
    "list_of_numbers"
   ]
  },
  {
   "cell_type": "code",
   "execution_count": 28,
   "metadata": {},
   "outputs": [
    {
     "data": {
      "text/plain": [
       "[1, 7, -2, 6, 5]"
      ]
     },
     "execution_count": 28,
     "metadata": {},
     "output_type": "execute_result"
    }
   ],
   "source": [
    "list_of_numbers = [5, 6, -2, 7, 1]\n",
    "\n",
    "list_of_numbers.reverse()\n",
    "\n",
    "list_of_numbers"
   ]
  },
  {
   "cell_type": "code",
   "execution_count": 29,
   "metadata": {},
   "outputs": [
    {
     "data": {
      "text/plain": [
       "['!', '5', 'a', 'x']"
      ]
     },
     "execution_count": 29,
     "metadata": {},
     "output_type": "execute_result"
    }
   ],
   "source": [
    "list_of_characters = ['x', '5', 'a', '!']\n",
    "\n",
    "sorted_list_of_characters = sorted(list_of_characters)\n",
    "\n",
    "sorted_list_of_characters"
   ]
  },
  {
   "cell_type": "code",
   "execution_count": 30,
   "metadata": {},
   "outputs": [
    {
     "data": {
      "text/plain": [
       "[[2, -6, 1], [2, 9], [2, 9, -1], [4, 2, 3], [5]]"
      ]
     },
     "execution_count": 30,
     "metadata": {},
     "output_type": "execute_result"
    }
   ],
   "source": [
    "list_of_lists = [[4,2,3,], [2,-6,1], [2,9], [2,9,-1], [5]]\n",
    "\n",
    "# compares the first element of each list, then the second...\n",
    "list_of_lists.sort()\n",
    "\n",
    "list_of_lists"
   ]
  },
  {
   "cell_type": "code",
   "execution_count": 31,
   "metadata": {},
   "outputs": [],
   "source": [
    "list_of_lists = [[4,2,3], [2,-6,1], [2,9], [2,9,-1]]\n"
   ]
  },
  {
   "cell_type": "code",
   "execution_count": 32,
   "metadata": {},
   "outputs": [
    {
     "ename": "TypeError",
     "evalue": "'<' not supported between instances of 'int' and 'str'",
     "output_type": "error",
     "traceback": [
      "\u001b[0;31m---------------------------------------------------------------------------\u001b[0m",
      "\u001b[0;31mTypeError\u001b[0m                                 Traceback (most recent call last)",
      "Cell \u001b[0;32mIn[32], line 4\u001b[0m\n\u001b[1;32m      1\u001b[0m mixed_list \u001b[38;5;241m=\u001b[39m [\u001b[38;5;124m'\u001b[39m\u001b[38;5;124mb\u001b[39m\u001b[38;5;124m'\u001b[39m, \u001b[38;5;124m'\u001b[39m\u001b[38;5;124ma\u001b[39m\u001b[38;5;124m'\u001b[39m, \u001b[38;5;241m14\u001b[39m, [\u001b[38;5;241m1\u001b[39m,\u001b[38;5;241m2\u001b[39m,\u001b[38;5;241m3\u001b[39m]]\n\u001b[1;32m      3\u001b[0m \u001b[38;5;66;03m# causes an error because some elements of different types aren't comparible\u001b[39;00m\n\u001b[0;32m----> 4\u001b[0m mixed_list\u001b[38;5;241m.\u001b[39msort()\n\u001b[1;32m      6\u001b[0m mixed_list\n",
      "\u001b[0;31mTypeError\u001b[0m: '<' not supported between instances of 'int' and 'str'"
     ]
    }
   ],
   "source": [
    "mixed_list = ['b', 'a', 14, [1,2,3]]\n",
    "\n",
    "# causes an error because some elements of different types aren't comparible\n",
    "mixed_list.sort()\n",
    "\n",
    "mixed_list"
   ]
  },
  {
   "cell_type": "markdown",
   "metadata": {},
   "source": [
    "### Maximum and Minimum\n",
    "As with sorting, the functions ``max()`` and ``min()`` require that all the list elements can be compared to each other. "
   ]
  },
  {
   "cell_type": "code",
   "execution_count": null,
   "metadata": {},
   "outputs": [],
   "source": [
    "list_of_numbers = [5, 6.1, -2, 7, 1]\n",
    "\n",
    "max(list_of_numbers)"
   ]
  },
  {
   "cell_type": "code",
   "execution_count": null,
   "metadata": {},
   "outputs": [],
   "source": [
    "min(list_of_numbers)"
   ]
  },
  {
   "cell_type": "markdown",
   "metadata": {},
   "source": [
    "### Sum the Elements of a List\n",
    "In this case all the elements must be numbers."
   ]
  },
  {
   "cell_type": "code",
   "execution_count": null,
   "metadata": {},
   "outputs": [],
   "source": [
    "list_of_numbers = [5, 6.1, -2, 7, 1]\n",
    "\n",
    "sum(list_of_numbers)"
   ]
  },
  {
   "cell_type": "markdown",
   "metadata": {},
   "source": [
    "### Lists as Function Inputs\n",
    "Here's a trick that might seem a bit strange but can be very useful: the * symbol before a list causes each of the members to be output.\n",
    "One place where this is used is if you have the values in a list that you want to use as the parameters for a function. \n",
    "Passing the list to the function doesn't work. \n",
    "Instead we want to pass in the members of the list, in order."
   ]
  },
  {
   "cell_type": "code",
   "execution_count": 33,
   "metadata": {},
   "outputs": [
    {
     "name": "stdout",
     "output_type": "stream",
     "text": [
      "[1, 2, 3]\n",
      "1 2 3\n"
     ]
    }
   ],
   "source": [
    "print([1,2,3])\n",
    "print(*[1,2,3])"
   ]
  },
  {
   "cell_type": "code",
   "execution_count": 34,
   "metadata": {},
   "outputs": [
    {
     "ename": "IndexError",
     "evalue": "Replacement index 1 out of range for positional args tuple",
     "output_type": "error",
     "traceback": [
      "\u001b[0;31m---------------------------------------------------------------------------\u001b[0m",
      "\u001b[0;31mIndexError\u001b[0m                                Traceback (most recent call last)",
      "Cell \u001b[0;32mIn[34], line 3\u001b[0m\n\u001b[1;32m      1\u001b[0m \u001b[38;5;66;03m# causes an error\u001b[39;00m\n\u001b[1;32m      2\u001b[0m numbers \u001b[38;5;241m=\u001b[39m [\u001b[38;5;241m1\u001b[39m, \u001b[38;5;241m2\u001b[39m, \u001b[38;5;241m3\u001b[39m]\n\u001b[0;32m----> 3\u001b[0m \u001b[38;5;28mprint\u001b[39m(\u001b[38;5;124m'\u001b[39m\u001b[38;5;124mMy favourite numbers are \u001b[39m\u001b[38;5;132;01m{}\u001b[39;00m\u001b[38;5;124m, \u001b[39m\u001b[38;5;132;01m{}\u001b[39;00m\u001b[38;5;124m, and \u001b[39m\u001b[38;5;132;01m{}\u001b[39;00m\u001b[38;5;124m'\u001b[39m\u001b[38;5;241m.\u001b[39mformat(numbers))\n",
      "\u001b[0;31mIndexError\u001b[0m: Replacement index 1 out of range for positional args tuple"
     ]
    }
   ],
   "source": [
    "# causes an error\n",
    "numbers = [1, 2, 3]\n",
    "print('My favourite numbers are {}, {}, and {}'.format(numbers))"
   ]
  },
  {
   "cell_type": "code",
   "execution_count": 37,
   "metadata": {},
   "outputs": [
    {
     "name": "stdout",
     "output_type": "stream",
     "text": [
      "My favourite numbers are 1, 2, and 3\n"
     ]
    }
   ],
   "source": [
    "# this works\n",
    "numbers = [1, 2, 3]\n",
    "print('My favourite numbers are {}, {}, and {}'.format(*numbers))"
   ]
  },
  {
   "cell_type": "markdown",
   "metadata": {},
   "source": [
    "## Dictionaries\n",
    "Python dictionaries store a set of **key:value** pairs. \n",
    "In a list we can store lots of values, and access a specific value by its position in the list (its index).\n",
    "In a dictionary we access data by using its key.\n",
    "The syntax to do this is ``dictionaryName[key]``.\n",
    "The next cell gives an example of a dictionary in which the keys are British cities and the values are the populations, and shows how to access a value from the dictionary.\n",
    "What happens if you try to access a value from the dictionary using a key that doesn't exist in it?"
   ]
  },
  {
   "cell_type": "code",
   "execution_count": 38,
   "metadata": {},
   "outputs": [
    {
     "name": "stdout",
     "output_type": "stream",
     "text": [
      "The population of Wells is 10536\n",
      "The population of City of London is 7375\n"
     ]
    }
   ],
   "source": [
    "cityPopulations = {\n",
    "    'St Davids': 1841, \n",
    "    'St Asaph': 3355, \n",
    "    'City of London': 7375, \n",
    "    'Wells': 10536, \n",
    "    'Armagh': 14777, \n",
    "    'Ripon': 16702\n",
    "}\n",
    "\n",
    "# to access a value from a dictionary use dictionaryName[key]\n",
    "populationOfWells = cityPopulations['Wells']\n",
    "print('The population of Wells is', populationOfWells)\n",
    "\n",
    "# the key could be stored in a variable.\n",
    "# Change the value of this variable and see that the output of the next line changes.\n",
    "cityName = 'City of London'\n",
    "print('The population of {} is {}'.format(cityName, cityPopulations[cityName]))"
   ]
  },
  {
   "cell_type": "markdown",
   "metadata": {},
   "source": [
    "An alternative way to access a dictionary item is to use ``get()``.\n",
    "This will not cause an error if the key doesn't exist in the dictionary.\n",
    "If the key doesn't exist then ``get()`` will return None by default."
   ]
  },
  {
   "cell_type": "code",
   "execution_count": 39,
   "metadata": {},
   "outputs": [
    {
     "name": "stdout",
     "output_type": "stream",
     "text": [
      "10536\n",
      "None\n"
     ]
    }
   ],
   "source": [
    "cityPopulations = {\n",
    "    'St Davids': 1841, \n",
    "    'St Asaph': 3355, \n",
    "    'City of London': 7375, \n",
    "    'Wells': 10536, \n",
    "    'Armagh': 14777, \n",
    "    'Ripon': 16702\n",
    "}\n",
    "\n",
    "print(cityPopulations.get('Wells'))\n",
    "print(cityPopulations.get('Not a City'))"
   ]
  },
  {
   "cell_type": "markdown",
   "metadata": {},
   "source": [
    "### Adding and Removing Items From a Dictionary\n",
    "To add a key, value pair to a dictionary use ``update()``. \n",
    "We can update with a single item or a list of key: value pairs. "
   ]
  },
  {
   "cell_type": "code",
   "execution_count": 40,
   "metadata": {},
   "outputs": [
    {
     "name": "stdout",
     "output_type": "stream",
     "text": [
      "{'St Davids': 1841, 'St Asaph': 3355, 'Ripon': 16702, 'Truro': 18766}\n",
      "{'St Davids': 1841, 'St Asaph': 3355, 'Ripon': 16702, 'Truro': 18766, 'City of London': 7375, 'Wells': 10536, 'Armagh': 14777}\n"
     ]
    }
   ],
   "source": [
    "cityPopulations = {\n",
    "    'St Davids': 1841, \n",
    "    'St Asaph': 3355, \n",
    "    'Ripon': 16702\n",
    "}\n",
    "\n",
    "# update with a single item\n",
    "cityPopulations.update({\"Truro\": 18766})\n",
    "\n",
    "print(cityPopulations)\n",
    "\n",
    "cityPopulations.update({\n",
    "    'City of London': 7375, \n",
    "    'Wells': 10536, \n",
    "    'Armagh': 14777\n",
    "})\n",
    "\n",
    "print(cityPopulations)"
   ]
  },
  {
   "cell_type": "markdown",
   "metadata": {},
   "source": [
    "And to remove an item from the dictionary use ``pop()``."
   ]
  },
  {
   "cell_type": "code",
   "execution_count": 41,
   "metadata": {},
   "outputs": [
    {
     "name": "stdout",
     "output_type": "stream",
     "text": [
      "10536\n",
      "{'St Davids': 1841, 'St Asaph': 3355, 'City of London': 7375, 'Armagh': 14777, 'Ripon': 16702}\n"
     ]
    }
   ],
   "source": [
    "cityPopulations = {\n",
    "    'St Davids': 1841, \n",
    "    'St Asaph': 3355, \n",
    "    'City of London': 7375, \n",
    "    'Wells': 10536, \n",
    "    'Armagh': 14777, \n",
    "    'Ripon': 16702\n",
    "}\n",
    "\n",
    "# the pop() function returns the value of the item being removed\n",
    "print(cityPopulations.pop('Wells'))\n",
    "\n",
    "# now the item with key 'Wells' no longer appears in the dictionary\n",
    "print(cityPopulations)"
   ]
  },
  {
   "cell_type": "markdown",
   "metadata": {},
   "source": [
    "Remove all items of a dictionary with ``clear()``."
   ]
  },
  {
   "cell_type": "code",
   "execution_count": 42,
   "metadata": {},
   "outputs": [
    {
     "name": "stdout",
     "output_type": "stream",
     "text": [
      "{}\n"
     ]
    }
   ],
   "source": [
    "cityPopulations = {\n",
    "    'St Davids': 1841, \n",
    "    'St Asaph': 3355, \n",
    "    'City of London': 7375, \n",
    "    'Wells': 10536, \n",
    "    'Armagh': 14777, \n",
    "    'Ripon': 16702\n",
    "}\n",
    "\n",
    "cityPopulations.clear()\n",
    "\n",
    "# now an empty dictionary\n",
    "print(cityPopulations)"
   ]
  },
  {
   "cell_type": "markdown",
   "metadata": {},
   "source": [
    "### keys(), values() and items()\n",
    "These three methods return all the keys used in a dictionary, all the values in the dictionary, or all the (key, value) pairs. \n",
    "They are incredibly useful if you want to iterate over a dictionary -- which we will be doing later in the course."
   ]
  },
  {
   "cell_type": "code",
   "execution_count": 43,
   "metadata": {},
   "outputs": [
    {
     "name": "stdout",
     "output_type": "stream",
     "text": [
      "dict_keys(['St Davids', 'St Asaph', 'City of London', 'Wells', 'Armagh', 'Ripon'])\n"
     ]
    }
   ],
   "source": [
    "cityPopulations = {\n",
    "    'St Davids': 1841, \n",
    "    'St Asaph': 3355, \n",
    "    'City of London': 7375, \n",
    "    'Wells': 10536, \n",
    "    'Armagh': 14777, \n",
    "    'Ripon': 16702\n",
    "}\n",
    "\n",
    "print(cityPopulations.keys())"
   ]
  },
  {
   "cell_type": "code",
   "execution_count": 44,
   "metadata": {},
   "outputs": [
    {
     "name": "stdout",
     "output_type": "stream",
     "text": [
      "dict_values([1841, 3355, 7375, 10536, 14777, 16702])\n"
     ]
    }
   ],
   "source": [
    "print(cityPopulations.values())"
   ]
  },
  {
   "cell_type": "code",
   "execution_count": 45,
   "metadata": {},
   "outputs": [
    {
     "name": "stdout",
     "output_type": "stream",
     "text": [
      "dict_items([('St Davids', 1841), ('St Asaph', 3355), ('City of London', 7375), ('Wells', 10536), ('Armagh', 14777), ('Ripon', 16702)])\n"
     ]
    }
   ],
   "source": [
    "print(cityPopulations.items())"
   ]
  },
  {
   "cell_type": "markdown",
   "metadata": {},
   "source": [
    "## Type\n",
    "The ``type()`` function returns the type of the given argument.\n",
    "Let us use the `type` operator to have a look at the types of some Python data items."
   ]
  },
  {
   "cell_type": "code",
   "execution_count": 46,
   "metadata": {},
   "outputs": [
    {
     "name": "stdout",
     "output_type": "stream",
     "text": [
      "2 has type int\n",
      "3.0 has type float\n",
      "hello has type str\n",
      "[1, 2, 3] has type list\n",
      "<built-in function print> has type builtin_function_or_method\n",
      "<class 'int'> has type type\n",
      "<class 'type'> has type type\n"
     ]
    }
   ],
   "source": [
    "items = [2, 3.0, \"hello\", [1,2,3], print, int, type ]\n",
    "\n",
    "for item in items:\n",
    "    print(\"{} has type {}\".format(item, type(item).__name__))"
   ]
  },
  {
   "cell_type": "markdown",
   "metadata": {},
   "source": [
    "Things can go wrong if we are not careful about variable types. Run the cell and then enter a number in the input box."
   ]
  },
  {
   "cell_type": "code",
   "execution_count": null,
   "metadata": {},
   "outputs": [],
   "source": [
    "x = input(\"Enter a number: \")\n",
    "print(\"The next number is\", x + 1 )"
   ]
  },
  {
   "cell_type": "markdown",
   "metadata": {},
   "source": [
    "Even though a number is given, this is interpreted as a string by the ``input()`` function. Trying to add the integer 1 to this string causes an error. We can fix this with type casting. "
   ]
  },
  {
   "cell_type": "code",
   "execution_count": null,
   "metadata": {},
   "outputs": [],
   "source": [
    "x = input(\"Enter a number: \")\n",
    "x = int(x)\n",
    "print(\"The next number is\", x + 1 )"
   ]
  },
  {
   "cell_type": "markdown",
   "metadata": {},
   "source": [
    "The following cell runs without error, but the output might not be what you'd expect from first glancing at the code."
   ]
  },
  {
   "cell_type": "code",
   "execution_count": null,
   "metadata": {},
   "outputs": [],
   "source": [
    "int(str(2) * 3)"
   ]
  }
 ],
 "metadata": {
  "kernelspec": {
   "display_name": "Python 3 (ipykernel)",
   "language": "python",
   "name": "python3"
  },
  "language_info": {
   "codemirror_mode": {
    "name": "ipython",
    "version": 3
   },
   "file_extension": ".py",
   "mimetype": "text/x-python",
   "name": "python",
   "nbconvert_exporter": "python",
   "pygments_lexer": "ipython3",
   "version": "3.12.4"
  }
 },
 "nbformat": 4,
 "nbformat_minor": 4
}
