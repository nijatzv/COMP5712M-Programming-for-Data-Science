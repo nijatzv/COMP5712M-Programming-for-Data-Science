{
 "cells": [
  {
   "cell_type": "markdown",
   "metadata": {},
   "source": [
    "## COMP5712M: Programming for Data Science \n",
    "\n",
    "## Coursework 1\n",
    "\n",
    "### @author: Nijat/rthv0616/202005660\n",
    "\n",
    "This coursework is intended to test skills in defining algorithmic functions in Python, with an emphasis on types of function for processing, transforming and classifying. Completing this set of tasks should give you a very good grounding in the fundamental programming techiniques required for data science.\n",
    "\n",
    "\n",
    "\n",
    "### **Do not import any module other than those already imported into this file**.\n",
    "\n",
    "In this coursework, you will be using a limited set of library modules. This is to ensure you master the kinds of algorithms required rather than relying on pre-programmed functions provided by Python packages. In other words do not add `import` statements in any code you write for this assignment. And, of course, do not add extra packages to the\n",
    "`import` statements that are already in the code.\n",
    "\n",
    "### For the tasks\n",
    "\n",
    "You are given a bare skeleton function with the function name, arguments and a dummy return value. You need to edit the functions so that for any input of the expected type, the result returned will fit the given specification.\n",
    "\n",
    "You will be able to check that your functions are working correctly, by running a testing function defined in the file `Coursework1_tests.py`. You should download this from Minerva and put it in the same directory as `Coursework1.ipynb`.\n",
    "    \n",
    "**Note:** The tests carried out by the testing module provided in `Coursework1_tests.py` are similar to but **not the same** as those that will be used for the final grading. The functions you define need to satisfy the general requirements that are specified, otherwise you may lose marks when the final grading is done using other tests.\n",
    "    \n",
    "When answering the questions below, you can just modify the given template cell. You don't need to create a new cell for your definition. But make sure you do not alter the name of the function or the number and type of its arguments, otherwise the automatic testing/grading function will not work correctly.\n"
   ]
  },
  {
   "cell_type": "markdown",
   "metadata": {},
   "source": [
    "### Importing the Testing Module\n",
    "In order to run the function tests provided for you to check you code\n",
    "you will need to first run the following cell, which imports the\n",
    "testing module for this assignment. (As mentioned above, the tests used\n",
    "for final grading of this assignment will be different from the specific\n",
    "tests carried out by this module.)"
   ]
  },
  {
   "cell_type": "code",
   "execution_count": 1,
   "metadata": {},
   "outputs": [
    {
     "data": {
      "text/plain": [
       "(('Autograder:', 3.0), ('Tests:', '21 October 2025'))"
      ]
     },
     "execution_count": 1,
     "metadata": {},
     "output_type": "execute_result"
    }
   ],
   "source": [
    "from Coursework1_tests import do_tests, tests_version\n",
    "\n",
    "tests_version()"
   ]
  },
  {
   "cell_type": "markdown",
   "metadata": {},
   "source": [
    "## Q1. Using a Data File of English Words (10 marks)\n",
    "\n",
    "For this task you will deal with a file contains contains nearly all common English words:\n",
    "\n",
    "* english_words.txt\n",
    "\n",
    "The following code initialises the global variable `ENGLISH_WORDS` to be a **set** of all the words in the file `english_words.txt`, to be used for the rest of the tasks. You will need to have that file in the same folder as this notebook file."
   ]
  },
  {
   "cell_type": "code",
   "execution_count": 6,
   "metadata": {},
   "outputs": [],
   "source": [
    "def get_english_words():\n",
    "    with open(\"english_words.txt\") as f:\n",
    "         words = f.readlines()\n",
    "    words = { word.strip() for\n",
    "             word in words }\n",
    "    return words\n",
    "\n",
    "ENGLISH_WORDS = get_english_words()"
   ]
  },
  {
   "cell_type": "markdown",
   "metadata": {},
   "source": [
    "You are recommended to use the `ENGLISH_WORDS` variable in the following questions, whenever you are required to perform a calculation involving all the words in `english_words.txt`. This is particularly important for a function that\n",
    "needs to check the list of words many times. Reading information from a file typically takes more computational time than other operations, so if data can be stored in memory (e.g. as the value of a Python variable) this will usually be a lot more efficient than reading it from a file each time it is needed. (Of course, when dealing with very large datasets, it may not be possible to store the whole dataset in memory.)"
   ]
  },
  {
   "cell_type": "markdown",
   "metadata": {},
   "source": [
    "### Q1 (a) Check whether a string is an English word (5 marks)\n",
    "\n",
    "Write a function `is_english_word(s)`, which will test if its input string `s` is an English word, according to the file english_words.txt. This file contains a large number of English words, including all common words and many very rare words. Proper names are not included, and all words are given in lower case, with one word on each line of the file.\n",
    "You need to download the file of English words. Note that it is not a program file and you do not need to edit it. \n",
    "\n",
    "\n",
    "Your function `is_english_word(s)` should take any string as its argument and return a Boolean value --- i.e. `True` or `False`. More specifically your function should return `True` if _any_ of the following conditions hold:\n",
    "* The input string is one of the words in `english_words.txt`.\n",
    "* The input string is the same as one of the of the words in `english_words.txt` except that the input string starts with a capital letter (with all the other letters being small).\n",
    "* The input string is the same as one of the words in `english_words.txt` except that the input string is all in capital letters.\n",
    "* The input string contains only alphabetic characters and is one of the 100 most\n",
    "  common words in the English language. (One would expect all such words to be listed in `english_words.txt`, but maybe you should check.)\n",
    "\n",
    "If none of these conditions hold, your function should return `False`.\n",
    "\n",
    "#### Examples:\n",
    "\n",
    "| INPUT |\tOUPUT |\n",
    "|-------|---------|\n",
    "|`\"python\"`| `True`|\n",
    "|`\"Python\"`| `True`|\n",
    "|`\"PYTHON\"`| `True`|\n",
    "|`\"pyThon\"`| `False`|\n",
    "|`\"splap\"` | `False`|"
   ]
  },
  {
   "cell_type": "code",
   "execution_count": 65,
   "metadata": {},
   "outputs": [],
   "source": [
    "## Modify this function definition to fulfill the given requirements.\n",
    "\n",
    "def is_english_word(s):\n",
    "    if not s.isalpha():\n",
    "        return False\n",
    "        \n",
    "    if s in ENGLISH_WORDS:\n",
    "        return True\n",
    "        \n",
    "    if s.lower() in ENGLISH_WORDS:\n",
    "        if s[0].isupper() and s[1:].islower():\n",
    "            return True\n",
    "        if s.isupper():\n",
    "            return True\n",
    "        \n",
    "    return False"
   ]
  },
  {
   "cell_type": "code",
   "execution_count": 67,
   "metadata": {},
   "outputs": [
    {
     "name": "stdout",
     "output_type": "stream",
     "text": [
      "*Autograder (v3.0)*\n",
      "Testing function: is_english_word\n",
      "Evaluating: is_english_word(\"this\") ...\n",
      "Returned: True\n",
      "Expected answer: True\n",
      "CORRECT :)    1 mark\n",
      "Evaluating: is_english_word(\"Python\") ...\n",
      "Returned: True\n",
      "Expected answer: True\n",
      "CORRECT :)    1 mark\n",
      "Evaluating: is_english_word(\"HelP\") ...\n",
      "Returned: False\n",
      "Expected answer: False\n",
      "CORRECT :)    1 mark\n",
      "Evaluating: is_english_word(\"Flibbertigibbet\") ...\n",
      "Returned: True\n",
      "Expected answer: True\n",
      "CORRECT :)    1 mark\n",
      "Evaluating: is_english_word(\"Brexit\") ...\n",
      "Returned: False\n",
      "Expected answer: False\n",
      "CORRECT :)    1 mark\n",
      "----------------------------------------------\n",
      "Total mark for 'is_english_word' is 5 out of 5\n",
      "----------------------------------------------\n"
     ]
    }
   ],
   "source": [
    "# Run this cell to test your is_english_word function\n",
    "# The testing module must have been imported (see above)\n",
    "do_tests(is_english_word)"
   ]
  },
  {
   "cell_type": "markdown",
   "metadata": {},
   "source": [
    "### Q1(b) Literate Password Checker (5 marks)\n",
    "\n",
    "Computer systems are vulnerable to hacking if they can be\n",
    "accessed by passwords based on English words.\n",
    "Now that we have access to the set of English words, we can\n",
    "define a tougher password checker.\n",
    "\n",
    "An institution uses the following rules to classify the strength of passwords:\n",
    "\n",
    "* A string is an ILLEGAL password if either:\n",
    "  * it is an English word (as defined above)\n",
    "  * it contains any invisible character (space, tab, newline)\n",
    "\n",
    "\n",
    "* A string is a WEAK password if it is **not** ILLEGAL and, either:\n",
    "  * it is _less than_ 8 characters long.\n",
    "  * it is an English word followed by one or more decimal digit characters\n",
    "\n",
    "\n",
    "* A string is a STRONG password if it is **not** ILLEGAL and:\n",
    "  * it contains at least 12 characters\n",
    "  * AND it contains at least 1 lower case letter\n",
    "  * AND it contains at least 1 capital letter\n",
    "  * AND it contains at least 1 numerical digit\n",
    "  * AND it contains at least 1 special character (any visible ASCII\n",
    "    character that is not a letter or a number)\n",
    "\n",
    "\n",
    "* A string is a MEDIUM password if it is **not** an ILLEGAL password and\n",
    "  is **not** a WEAK password and is **not** a STRONG password.\n",
    "\n",
    "You need to code a function ```password_strength``` that will take a string argument and will return the 'strength' of that string as a password, according to the rules given above. So it should return one of the strings  \n",
    "```\"ILLEGAL\"```, \n",
    "```\"STRONG\"```, \n",
    "```\"WEAK\"``` or \n",
    "```\"MEDIUM\"```.\n",
    "\n",
    "You may assume that the input password is consists of only ASCII characters,\n",
    "that is: alphabetic letters, numerical digits, special visible charactes,\n",
    "spaces, tabs and newlines. The special visible characters are:\n",
    "<pre>\n",
    "~`!@#$%^&*(){}[]|\\/:;\";<>.?\n",
    "</pre>\n",
    "\n",
    "\n",
    "Examples:\n",
    "\n",
    "| INPUT             | OUPUT |\n",
    "| -----             | --------|\n",
    "| ```\"secret\"```           |\t```\"ILLEGAL\"``` |\n",
    "| ```\"my secret\"```           |\t```\"ILLEGAL\"``` |\n",
    "| ```\"qwertyu\"```           |\t```\"WEAK\"``` |\n",
    "| ```\"hello123\"```           |\t```\"WEAK\"``` |\n",
    "| ```\"7Kings8all9Pies!\"``` |\t```\"STRONG\"``` |\n",
    "| ```\"brandon123\"```      |\t```\"MEDIUM\"``` |\n"
   ]
  },
  {
   "cell_type": "code",
   "execution_count": 56,
   "metadata": {},
   "outputs": [
    {
     "name": "stderr",
     "output_type": "stream",
     "text": [
      "<>:7: SyntaxWarning: invalid escape sequence '\\/'\n",
      "<>:7: SyntaxWarning: invalid escape sequence '\\/'\n",
      "C:\\Users\\Lenovo\\AppData\\Local\\Temp\\ipykernel_936\\1844542124.py:7: SyntaxWarning: invalid escape sequence '\\/'\n",
      "  special_chars = '~`!@#$%^&*(){}[]|\\/:;\";<>.?'\n"
     ]
    }
   ],
   "source": [
    "## Modify this function definition to fulfill the given requirements.\n",
    "\n",
    "def password_strength(password):\n",
    "    ## Add code to compute password strength\n",
    "    # should return the strength (\"ILLEGAL\", WEAK\", \"STRONG\" or \"MEDIUM\")\n",
    "\n",
    "    special_chars = '~`!@#$%^&*(){}[]|\\/:;\";<>.?'\n",
    "\n",
    "    # ---------------illegal\n",
    "    if is_english_word(password):\n",
    "        return 'ILLEGAL'\n",
    "    for c in [' ', '\\t', '\\n']:\n",
    "        if c in password:\n",
    "            return 'ILLEGAL'\n",
    "\n",
    "    # -----------weak\n",
    "    if len(password) < 8:\n",
    "        return 'WEAK'\n",
    "\n",
    "    for i in range(1, len(password)):\n",
    "        if password[:i].isalpha() and password[i:].isdigit():\n",
    "            if is_english_word(password[:i]):\n",
    "                return 'WEAK'\n",
    "\n",
    "    # ---------strong\n",
    "    if len(password) >= 12:\n",
    "        has_lower = False\n",
    "        has_upper = False\n",
    "        has_digit = False\n",
    "        has_special = False\n",
    "\n",
    "        for c in password:\n",
    "            if c.islower():\n",
    "                has_lower = True\n",
    "            elif c.isupper():\n",
    "                has_upper = True\n",
    "            elif c.isdigit():\n",
    "                has_digit = True\n",
    "            elif c in special_chars:\n",
    "                has_special = True\n",
    "\n",
    "        if has_digit and has_lower and has_special and has_upper:\n",
    "            return 'STRONG'\n",
    "\n",
    "    return 'MEDIUM'\n",
    "    \n",
    "    #return None\n"
   ]
  },
  {
   "cell_type": "code",
   "execution_count": 58,
   "metadata": {},
   "outputs": [
    {
     "name": "stdout",
     "output_type": "stream",
     "text": [
      "*Autograder (v3.0)*\n",
      "Testing function: password_strength\n",
      "Evaluating: password_strength(\"boa constrictor\") ...\n",
      "Returned: 'ILLEGAL'\n",
      "Expected answer: 'ILLEGAL'\n",
      "CORRECT :)    1 mark\n",
      "Evaluating: password_strength(\"Secret\") ...\n",
      "Returned: 'ILLEGAL'\n",
      "Expected answer: 'ILLEGAL'\n",
      "CORRECT :)    1 mark\n",
      "Evaluating: password_strength(\"secret99\") ...\n",
      "Returned: 'WEAK'\n",
      "Expected answer: 'WEAK'\n",
      "CORRECT :)    1 mark\n",
      "Evaluating: password_strength(\"Secret999!\") ...\n",
      "Returned: 'MEDIUM'\n",
      "Expected answer: 'MEDIUM'\n",
      "CORRECT :)    1 mark\n",
      "Evaluating: password_strength(\"7Kings8all9Pies!\") ...\n",
      "Returned: 'STRONG'\n",
      "Expected answer: 'STRONG'\n",
      "CORRECT :)    1 mark\n",
      "------------------------------------------------\n",
      "Total mark for 'password_strength' is 5 out of 5\n",
      "------------------------------------------------\n"
     ]
    }
   ],
   "source": [
    "# Run this cell to test the password_strength function\n",
    "# The testing module must have been imported (see above)\n",
    "do_tests(password_strength)"
   ]
  },
  {
   "cell_type": "markdown",
   "metadata": {},
   "source": [
    "## Question 2: A Simple Holiday Recommendation System (8 marks)"
   ]
  },
  {
   "cell_type": "markdown",
   "metadata": {},
   "source": [
    "You are asked to write functions that operate as a\n",
    "simple system for recommending holiday destinations based on the amount\n",
    "of money to spend and some desired features of a holiday.\n",
    "These requirements will be compared to data about possible holiday\n",
    "destinations in order to find those that match the cost and\n",
    "feature requirements."
   ]
  },
  {
   "cell_type": "markdown",
   "metadata": {},
   "source": [
    "### Q2(a) Find available holiday features (3 marks)\n",
    "Write a function `available_features` that\n",
    "takes two input parameters:\n",
    " 1. The maximum amount of money (represented as an integer) that someone is prepared to spend.\n",
    " 2. Holiday destination datalist.<br>\n",
    "    This is a dictionary in the form such as specified in the next code\n",
    "    cell. It contains the name of a holiday destination as a key and a list of the cost of the holiday and a list of attributes associated with that destination."
   ]
  },
  {
   "cell_type": "code",
   "execution_count": 107,
   "metadata": {},
   "outputs": [],
   "source": [
    "HOLIDAYS_EG = { \"Scarborough\": [45, [\"beach\"]], \n",
    "                \"Whitby\": [60,  [\"beach\", \"culture\"]],\n",
    "                \"Barcelona\": [320,  [\"beach\", \"culture\", \"hot\"]], \n",
    "                \"Corfu\": [300,  [\"beach\", \"hot\"]],\n",
    "                \"Paris\": [250,  [\"culture\"]],\n",
    "                \"Rome\":[300,  [\"culture\", \"hot\"]],\n",
    "                \"Switzerland\": [450,  [\"culture\", \"mountains\"]],\n",
    "                \"California\": [750,  [\"beach\", \"hot\", \"mountains\"]],      \n",
    "                }      "
   ]
  },
  {
   "cell_type": "markdown",
   "metadata": {},
   "source": [
    "**NOTE:** `HOLIDAYS_EG` is just an example of the holiday data structure. **Your\n",
    "function should work with any similar structure**, which could have different\n",
    "destinations, costs and attribute lists (which may contain other attribute\n",
    "strings).\n",
    "\n",
    "The value returned by `available_features` should be a list of all possible holiday features that\n",
    "are available from any holiday destination whose cost is less than or equal to the maximum amount\n",
    "specified by input parameter 1. This list should be ordered in _alphabetical order_.\n",
    "\n",
    "Here are some examples shown as a table:\n",
    "\n",
    "\n",
    " | parmeter 1 (cost) | parameter 2 (destination data) | return (feature list)|\n",
    " | --     |  --      | -- |  \n",
    " |   100  |   `HOLIDAYS_EG`    | `[\"beach\", \"culture\"]` |\n",
    " |   300  |   `HOLIDAYS_EG`    | `[\"beach\", \"culture\", \"hot\"]`  |\n",
    " \n",
    " \n",
    "**NOTE:** It need not be possible to have a holiday with all the possible features within the\n",
    " price limit, even though each feature must be available for some destination within the price limit.\n",
    " This means that it's not necessary to have a destination that gives all the returned features, provided that the features can be obtained through a combination of destinations within the price."
   ]
  },
  {
   "cell_type": "code",
   "execution_count": 110,
   "metadata": {},
   "outputs": [],
   "source": [
    "## Edit this function definition to give your answer\n",
    "def available_features(max_cost, holiday_data):\n",
    "    ## add your code here\n",
    "    features = set() # remove duplicates\n",
    "    for destination, info in holiday_data.items():\n",
    "        cost = info[0]\n",
    "        attrs = info[1]\n",
    "\n",
    "        if cost <= max_cost:\n",
    "            for feature in attrs:\n",
    "                features.add(feature)\n",
    "\n",
    "    return sorted(features)\n",
    "   # return [\"python\"] # not really\n",
    "    # It should actually return list of holiday features"
   ]
  },
  {
   "cell_type": "code",
   "execution_count": 112,
   "metadata": {},
   "outputs": [
    {
     "name": "stdout",
     "output_type": "stream",
     "text": [
      "*Autograder (v3.0)*\n",
      "Testing function: available_features\n",
      "Evaluating: available_features(30, HOL_TEST) ...\n",
      "Returned: []\n",
      "Expected answer: []\n",
      "CORRECT :)    1 mark\n",
      "Evaluating: available_features(100, HOL_TEST) ...\n",
      "Returned: ['beach', 'culture']\n",
      "Expected answer: ['beach', 'culture']\n",
      "CORRECT :)    1 mark\n",
      "Evaluating: available_features(5000, HOL_TEST) ...\n",
      "Returned: ['beach', 'culture', 'hot', 'wildlife']\n",
      "Expected answer: ['beach', 'culture', 'hot', 'wildlife']\n",
      "CORRECT :)    1 mark\n",
      "-------------------------------------------------\n",
      "Total mark for 'available_features' is 3 out of 3\n",
      "-------------------------------------------------\n"
     ]
    }
   ],
   "source": [
    "# Run this cell to test the available_features function\n",
    "# The testing module must have been imported (see above)\n",
    "do_tests(available_features)"
   ]
  },
  {
   "cell_type": "code",
   "execution_count": 105,
   "metadata": {},
   "outputs": [
    {
     "name": "stdout",
     "output_type": "stream",
     "text": [
      "['beach', 'culture']\n"
     ]
    }
   ],
   "source": [
    "# extra test\n",
    "HOLIDAYS_TEST = { \"Brighton\": [150,  [\"beach\", \"culture\"]], \n",
    "                  \"Whitby\": [100,  [\"beach\", \"culture\"]],\n",
    "                  \"Barcelona\": [320,  [\"beach\", \"culture\", \"hot\"]],\n",
    "                  \"Doncaster\": [40,  []],\n",
    "                  \"Crete\": [300,  [\"beach\", \"hot\"]],\n",
    "                  \"London\": [250,  [\"culture\"]],\n",
    "                  \"Sicily\": [300,  [\"culture\", \"hot\", \"beach\"]],\n",
    "                  \"Barbados\": [1250,  [\"hot\", \"beach\"]],\n",
    "                  \"Tanzania\": [2500, [\"hot\", \"beach\", \"wildlife\"]],\n",
    "                  \"Galapagos Islands\": [4500,  [\"beach\", \"wildlife\"]],      \n",
    "                }\n",
    "\n",
    "print(available_features(100, HOLIDAYS_TEST))"
   ]
  },
  {
   "cell_type": "code",
   "execution_count": 93,
   "metadata": {},
   "outputs": [],
   "source": [
    "HOL_FINAL = {\n",
    "                  \"Brighton\": [200,  [\"beach\", \"culture\"]], \n",
    "                  \"Whitby\": [100,  [\"beach\", \"culture\"]],\n",
    "                  \"Barcelona\": [320,  [\"beach\", \"culture\", \"hot\"]],\n",
    "                  \"Doncaster\": [40,  []],\n",
    "                  \"Scotland\": [250,  [\"mountains\", \"midges\"]],\n",
    "                  \"Crete\": [300,  [\"beach\", \"hot\"]],\n",
    "                  \"Paris\": [250,  [\"culture\", \"food\"]],\n",
    "                  \"Rome\": [325,  [\"hot\", \"culture\", \"food\"]],\n",
    "                  \"Sicily\": [350,  [\"culture\", \"hot\", \"beach\", \"food\"]],\n",
    "                  \"Crete\": [400,  [\"culture\", \"hot\", \"beach\"]],\n",
    "                  \"Trinidad\": [1000,  [\"beach\", \"hot\"]],\n",
    "                  \"Barbados\": [1250,  [\"hot\", \"beach\"]],\n",
    "                  \"Tanzania\": [2500,  [\"hot\", \"beach\", \"wildlife\"]],\n",
    "                  \"Galapagos Islands\": [4500,  [\"beach\", \"wildlife\"]],  \n",
    "                  \"Switzerland\": [1500,  [\"mountains\", \"culture\"]],  \n",
    "                  \"Antarctica\": [3250,  [\"wildlife\"]]\n",
    "             }"
   ]
  },
  {
   "cell_type": "markdown",
   "metadata": {},
   "source": [
    "### Q2(b) Find possible holiday recommendations (5 marks)\n",
    "Write a function `recommend_holidays` that\n",
    "takes three inputs:\n",
    " 1. The maximum amount of money (represented as an integer) that someone is prepared to spend.\n",
    " 2. A list of attribute strings. These can be any strings but would normally\n",
    "    correspond to attributes that have been specified in the holiday destination\n",
    "    data parameter.\n",
    " 3. Holiday destination datalist, which is of the same for as specified for part **(a)**.\n",
    "    "
   ]
  },
  {
   "cell_type": "markdown",
   "metadata": {},
   "source": [
    "\n",
    "\n",
    "The value returned by `recommend_holidays` should be a list, in descending order of cost, for destinations that satisfy the requirements, i.e. cost less than or equal to the  maximum cost input and have **all** the features indicated by the desired features,  string.\n",
    "\n",
    "Here are some examples shown as a table:\n",
    "\n",
    "\n",
    " | max_cost | attributes | holiday_data | return|\n",
    " | -- | -- | -- | -- |  \n",
    " | 500 | `[\"beach\", \"culture\"]` | `HOLIDAYS_TEST` | ```[[['Barcelona', 320, ['beach', 'culture', 'hot']], ['Sicily', 300, ['culture', 'hot', 'beach']], ['Brighton', 150, ['beach', 'culture']], ['Whitby', 100, ['beach', 'culture']]]``` |\n",
    " | 200 | `[\"beach\"]` | `HOLIDAYS_TEST` | ```[['Brighton', 150, ['beach', 'culture']], ['Whitby', 100, ['beach', 'culture']]]``` |\n",
    " | 2500 | `[\"wildlife\"]` | `HOLIDAYS_TEST` | ```[['Tanzania', 2500, ['hot', 'beach', 'wildlife']]]``` |\n",
    " \n",
    " \n",
    "Note that the second argument can be any list of strings. However, if it contains any string that is\n",
    "not a feature of any destination in the destination data, the value returned will be \n",
    "the empty list, `[]`, since no destinations will match that requirement."
   ]
  },
  {
   "cell_type": "code",
   "execution_count": 125,
   "metadata": {},
   "outputs": [],
   "source": [
    "## Edit this function definition to give your answer\n",
    "def recommend_holidays(max_cost, attributes, holiday_data):\n",
    "    ## add your code here\n",
    "    recommendations = []\n",
    "\n",
    "    for destination, info in holiday_data.items():\n",
    "        cost = info[0]\n",
    "        features = info[1]\n",
    "\n",
    "        if cost <= max_cost and all(attr in features for attr in attributes):\n",
    "            recommendations.append([destination, cost, features])\n",
    "\n",
    "    recommendations.sort(key=lambda x: x[1], reverse=True)\n",
    "\n",
    "    return recommendations\n",
    "    \n",
    "    #return [\"Leeds\"] # not really\n",
    "    # It should actually return list of all destinations that fit the requirements"
   ]
  },
  {
   "cell_type": "code",
   "execution_count": 127,
   "metadata": {},
   "outputs": [
    {
     "name": "stdout",
     "output_type": "stream",
     "text": [
      "*Autograder (v3.0)*\n",
      "Testing function: recommend_holidays\n",
      "Evaluating: recommend_holidays(200, [\"beach\", \"hot\"], HOL_TEST) ...\n",
      "Returned: []\n",
      "Expected answer: []\n",
      "CORRECT :)    1 mark\n",
      "Evaluating: recommend_holidays(200, [\"beach\"], HOL_TEST) ...\n",
      "Returned: [['Brighton', 150, ['beach', 'culture']], ['Whitby', 100, ['beach', 'culture']]]\n",
      "Expected answer: [['Brighton', 150, ['beach', 'culture']], ['Whitby', 100, ['beach', 'culture']]]\n",
      "CORRECT :)    1 mark\n",
      "Evaluating: recommend_holidays(500, [\"beach\"], HOL_TEST) ...\n",
      "Returned: [['Barcelona', 320, ['beach', 'culture', 'hot']], ['Crete', 300, ['beach', 'hot']], ['Sicily', 300, ['culture', 'hot', 'beach']], ['Brighton', 150, ['beach', 'culture']], ['Whitby', 100, ['beach', 'culture']]]\n",
      "Expected answer: [['Barcelona', 320, ['beach', 'culture', 'hot']], ['Crete', 300, ['beach', 'hot']], ['Sicily', 300, ['culture', 'hot', 'beach']], ['Brighton', 150, ['beach', 'culture']], ['Whitby', 100, ['beach', 'culture']]]\n",
      "CORRECT :)    1 mark\n",
      "Evaluating: recommend_holidays(300, [\"culture\"], HOL_TEST) ...\n",
      "Returned: [['Sicily', 300, ['culture', 'hot', 'beach']], ['London', 250, ['culture']], ['Brighton', 150, ['beach', 'culture']], ['Whitby', 100, ['beach', 'culture']]]\n",
      "Expected answer: [['Sicily', 300, ['culture', 'hot', 'beach']], ['London', 250, ['culture']], ['Brighton', 150, ['beach', 'culture']], ['Whitby', 100, ['beach', 'culture']]]\n",
      "CORRECT :)    1 mark\n",
      "Evaluating: recommend_holidays(5000, [\"beach\", \"wildlife\"], HOL_TEST) ...\n",
      "Returned: [['Galapagos Islands', 4500, ['beach', 'wildlife']], ['Tanzania', 2500, ['hot', 'beach', 'wildlife']]]\n",
      "Expected answer: [['Galapagos Islands', 4500, ['beach', 'wildlife']], ['Tanzania', 2500, ['hot', 'beach', 'wildlife']]]\n",
      "CORRECT :)    1 mark\n",
      "-------------------------------------------------\n",
      "Total mark for 'recommend_holidays' is 5 out of 5\n",
      "-------------------------------------------------\n"
     ]
    }
   ],
   "source": [
    "# Run this cell to test the recommend_holidays function\n",
    "# The testing module must have been imported (see above)\n",
    "do_tests(recommend_holidays)"
   ]
  },
  {
   "cell_type": "markdown",
   "metadata": {},
   "source": [
    "## Question 3: CO<sub>2</sub> and Greenhouse Gas Emission (5 marks)"
   ]
  },
  {
   "cell_type": "markdown",
   "metadata": {},
   "source": [
    "You are asked to write functions to extract specific data from a `CSV` file using the Pandas data analysis package for Python.The dataset contains annual CO<sub>2</sub> emissions per capita for multiple countries spanning the period 1750-2022, with differing start years by country.\n",
    "\n",
    "Full details for each task are explained below.To complete these tasks you will need to access and filter a `DataFrame`. The following questions can be done with only a small but powerful set of `DataFrame` operations."
   ]
  },
  {
   "cell_type": "markdown",
   "metadata": {},
   "source": [
    "### Q3(a) Find all countries without country code (1 mark)\n",
    "\n",
    "As you can see in the CSV file, there are countries without code. You need to write a function `no_code_countries()` which return all countries without country code as a set.\n",
    "\n",
    "Here is an example of returned results.\n",
    "\n",
    "<code>\n",
    "{'Africa',\n",
    " 'Asia',\n",
    " 'Asia (excl. China and India)',\n",
    " ...,\n",
    " ...,\n",
    " 'Oceania',\n",
    " 'South America',\n",
    " 'Upper-middle-income countries'}\n",
    "</code>"
   ]
  },
  {
   "cell_type": "code",
   "execution_count": 3,
   "metadata": {},
   "outputs": [],
   "source": [
    "import pandas as pd\n",
    "GHE_DF = pd.read_csv(\"co-emissions-per-capita.csv\")"
   ]
  },
  {
   "cell_type": "code",
   "execution_count": 45,
   "metadata": {},
   "outputs": [],
   "source": [
    "#GHE_DF.head\n",
    "#print(GHE_DF.columns)"
   ]
  },
  {
   "cell_type": "code",
   "execution_count": 47,
   "metadata": {},
   "outputs": [],
   "source": [
    "## Edit this function definition to give your answer\n",
    "def no_code_countries():\n",
    "    no_code_rows = GHE_DF[GHE_DF['Code'].isna()]['Entity']\n",
    "\n",
    "    return set(no_code_rows)\n",
    "    #return None"
   ]
  },
  {
   "cell_type": "code",
   "execution_count": 49,
   "metadata": {},
   "outputs": [
    {
     "name": "stdout",
     "output_type": "stream",
     "text": [
      "*Autograder (v3.0)*\n",
      "Testing function: no_code_countries\n",
      "Evaluating: no_code_countries() ...\n",
      "Returned: {'Europe', 'Lower-middle-income countries', 'European Union (28)', 'European Union (27)', 'Oceania', 'North America', 'Upper-middle-income countries', 'Europe (excl. EU-27)', 'North America (excl. USA)', 'Africa', 'High-income countries', 'Asia', 'Low-income countries', 'South America', 'Asia (excl. China and India)', 'Europe (excl. EU-28)'}\n",
      "Expected answer: {'Europe', 'European Union (28)', 'Europe (excl. EU-27)', 'Africa', 'High-income countries', 'Low-income countries', 'Europe (excl. EU-28)', 'North America (excl. USA)', 'Lower-middle-income countries', 'European Union (27)', 'Oceania', 'North America', 'Asia', 'South America', 'Asia (excl. China and India)', 'Upper-middle-income countries'}\n",
      "CORRECT :)    1 mark\n",
      "------------------------------------------------\n",
      "Total mark for 'no_code_countries' is 1 out of 1\n",
      "------------------------------------------------\n"
     ]
    }
   ],
   "source": [
    "# Run this cell to test the no_code_countries function\n",
    "# The testing module must have been imported (see above)\n",
    "do_tests(no_code_countries)"
   ]
  },
  {
   "cell_type": "markdown",
   "metadata": {},
   "source": [
    "### Q3(b) Find countries and years with 0 (zero) annual CO<sub>2</sub> emission (1 mark)\n",
    "\n",
    "Write a function `missing_co2data_dataframe` that returns a dataframe of the countries and years with 0 (zero) annual CO<sub>2</sub> emission.\n",
    "\n",
    "Here are some expected output:\n",
    "<code>\n",
    "      Entity\tYear\n",
    "74\tAfrica\t1750\n",
    "75\tAfrica\t1760\n",
    "76\tAfrica\t1770\n",
    "77\tAfrica\t1780\n",
    "78\tAfrica\t1790\n",
    "...\t...\t...\n",
    "25336\tUpper-middle-income countries\t1852\n",
    "25337\tUpper-middle-income countries\t1853\n",
    "25338\tUpper-middle-income countries\t1854\n",
    "25340\tUpper-middle-income countries\t1856\n",
    "25341\tUpper-middle-income countries\t1857\n",
    "\n",
    "2178 rows × 2 columns\n",
    "</code>\n"
   ]
  },
  {
   "cell_type": "code",
   "execution_count": 79,
   "metadata": {},
   "outputs": [],
   "source": [
    "## Edit this function definition to give your answer\n",
    "def missing_co2data_dataframe():\n",
    "    zero_emissions = GHE_DF[GHE_DF['Annual CO2 emissions (per capita)'] == 0]\n",
    "\n",
    "    return zero_emissions[['Entity', 'Year']]\n",
    "    \n",
    "    # return None"
   ]
  },
  {
   "cell_type": "code",
   "execution_count": 81,
   "metadata": {},
   "outputs": [
    {
     "name": "stdout",
     "output_type": "stream",
     "text": [
      "*Autograder (v3.0)*\n",
      "Testing function: missing_co2data_dataframe\n",
      "Evaluating: missing_co2data_dataframe().head(10) ...\n",
      "Returned:     Entity  Year\n",
      "74  Africa  1750\n",
      "75  Africa  1760\n",
      "76  Africa  1770\n",
      "77  Africa  1780\n",
      "78  Africa  1790\n",
      "79  Africa  1800\n",
      "80  Africa  1801\n",
      "81  Africa  1802\n",
      "82  Africa  1803\n",
      "83  Africa  1804\n",
      "Expected answer:     Entity  Year\n",
      "74  Africa  1750\n",
      "75  Africa  1760\n",
      "76  Africa  1770\n",
      "77  Africa  1780\n",
      "78  Africa  1790\n",
      "79  Africa  1800\n",
      "80  Africa  1801\n",
      "81  Africa  1802\n",
      "82  Africa  1803\n",
      "83  Africa  1804\n",
      "CORRECT :)    1 mark\n",
      "Evaluating: missing_co2data_dataframe().tail(10) ...\n",
      "Returned:                               Entity  Year\n",
      "25330  Upper-middle-income countries  1846\n",
      "25331  Upper-middle-income countries  1847\n",
      "25332  Upper-middle-income countries  1848\n",
      "25333  Upper-middle-income countries  1849\n",
      "25335  Upper-middle-income countries  1851\n",
      "25336  Upper-middle-income countries  1852\n",
      "25337  Upper-middle-income countries  1853\n",
      "25338  Upper-middle-income countries  1854\n",
      "25340  Upper-middle-income countries  1856\n",
      "25341  Upper-middle-income countries  1857\n",
      "Expected answer:                               Entity  Year\n",
      "25330  Upper-middle-income countries  1846\n",
      "25331  Upper-middle-income countries  1847\n",
      "25332  Upper-middle-income countries  1848\n",
      "25333  Upper-middle-income countries  1849\n",
      "25335  Upper-middle-income countries  1851\n",
      "25336  Upper-middle-income countries  1852\n",
      "25337  Upper-middle-income countries  1853\n",
      "25338  Upper-middle-income countries  1854\n",
      "25340  Upper-middle-income countries  1856\n",
      "25341  Upper-middle-income countries  1857\n",
      "CORRECT :)    1 mark\n",
      "--------------------------------------------------------\n",
      "Total mark for 'missing_co2data_dataframe' is 2 out of 2\n",
      "--------------------------------------------------------\n"
     ]
    }
   ],
   "source": [
    "# Run this cell to test the missing_co2data_dataframe function\n",
    "# The testing module must have been imported (see above)\n",
    "do_tests(missing_co2data_dataframe)"
   ]
  },
  {
   "cell_type": "markdown",
   "metadata": {},
   "source": [
    "### Q3(c) Find total CO<sub>2</sub> emission for a country over a year range (3 marks)\n",
    "\n",
    "Write a function `total_emission_over_years(country, year_range)` that takes two parameters:\n",
    "1. the country with the exact name as those in the dataset\n",
    "2. the year range as a list in the format [year_start, year_end], e.g. [1950, 1960].\n",
    "\n",
    "The function returns the total CO<sub>2</sub> emission as a float.\n",
    "\n",
    "Here are some examples shown as a table:\n",
    "\n",
    "\n",
    " | country | year_range | return|\n",
    " | -- | -- | -- | \n",
    " | `Africa` | `[2012, 2022]` | 11.85415807 |\n",
    " | `World` | `[2012, 2020]` | 42.8247932 |\n",
    " | `United States` | `[2012, 2022]` | 175.4723575 | "
   ]
  },
  {
   "cell_type": "code",
   "execution_count": 103,
   "metadata": {},
   "outputs": [],
   "source": [
    "## Edit this function definition to give your answer\n",
    "def total_emission_over_years(country, year_range):\n",
    "    str_year, end_year = year_range\n",
    "\n",
    "    filtering = GHE_DF[(GHE_DF['Entity'] == country) & (GHE_DF['Year'] >= str_year) & (GHE_DF['Year'] <= end_year)]\n",
    "\n",
    "    total = filtering['Annual CO2 emissions (per capita)'].sum()\n",
    "\n",
    "    return float(total)\n",
    "    \n",
    "   # return float(0.00)  # convert to float"
   ]
  },
  {
   "cell_type": "code",
   "execution_count": 105,
   "metadata": {},
   "outputs": [
    {
     "name": "stdout",
     "output_type": "stream",
     "text": [
      "*Autograder (v3.0)*\n",
      "Testing function: total_emission_over_years\n",
      "Evaluating: total_emission_over_years(\"Africa\", [2012, 2022]) ...\n",
      "Returned: 11.85415807\n",
      "Expected answer: 11.85415807\n",
      "CORRECT :)    1 mark\n",
      "Evaluating: total_emission_over_years(\"World\", [2012, 2020]) ...\n",
      "Returned: 42.8247932\n",
      "Expected answer: 42.8247932\n",
      "CORRECT :)    1 mark\n",
      "Evaluating: total_emission_over_years(\"United States\",[2012, 2022]) ...\n",
      "Returned: 175.4723575\n",
      "Expected answer: 175.4723575\n",
      "CORRECT :)    1 mark\n",
      "--------------------------------------------------------\n",
      "Total mark for 'total_emission_over_years' is 3 out of 3\n",
      "--------------------------------------------------------\n"
     ]
    }
   ],
   "source": [
    "# Run this cell to test the total_emission_over_years function\n",
    "# The testing module must have been imported (see above)\n",
    "do_tests(total_emission_over_years)"
   ]
  },
  {
   "cell_type": "markdown",
   "metadata": {},
   "source": [
    "# Submission\n",
    "\n",
    "* Coursework should be submitted via Gradescope.\n",
    "* You should submit your edited version of this file.\n",
    "* **Do not change the name of the file. \n",
    "  The file you upload must have the same name i.e. Coursework1.ipynb**"
   ]
  }
 ],
 "metadata": {
  "kernelspec": {
   "display_name": "Python 3 (ipykernel)",
   "language": "python",
   "name": "python3"
  },
  "language_info": {
   "codemirror_mode": {
    "name": "ipython",
    "version": 3
   },
   "file_extension": ".py",
   "mimetype": "text/x-python",
   "name": "python",
   "nbconvert_exporter": "python",
   "pygments_lexer": "ipython3",
   "version": "3.12.7"
  }
 },
 "nbformat": 4,
 "nbformat_minor": 4
}
